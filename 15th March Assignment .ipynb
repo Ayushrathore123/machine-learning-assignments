{
 "cells": [
  {
   "cell_type": "markdown",
   "id": "68d0da4c",
   "metadata": {},
   "source": [
    "Q1: Explain the following with an example:\n",
    "1. Artificial Intelligence\n",
    "2. Machine Learning\n",
    "3. Deep Learning\n",
    "\n",
    "\n",
    "\n",
    "1. Artificial Intelligence: Artificial intelligence is a smart application that can perform any task without any human interaction.eg: self driving car , robots, chatgpt\n",
    "\n",
    "2. Machine Learning : It provides Stats tool, to learn analyze visualize and devlop,predict the model.eg:netflix reccomandation,diabetes prediction,house price predictiion,weather forecasting.\n",
    "\n",
    "3. Deep learning:Deep Learning use multiple layer to progressively extract higher_level features from raw input.eg.for image processing lower layer may identify outer edges ,higher layer may identify concept relevant to humans such as digit or letter or faces"
   ]
  },
  {
   "cell_type": "markdown",
   "id": "ad70e448",
   "metadata": {},
   "source": [
    "Q2: What is supervised learning? List some examples of supervised learning.\n",
    "\n",
    "Supervised Learning:\n",
    "Supervised learning is a type of machine learning where the algorithm is trained on a labeled dataset, consisting of input-output pairs. The goal is to learn a mapping function from inputs to outputs so that the model can make predictions or classify new, unseen data. It is divided into two main categories: classification and regression.\n",
    "\n",
    "Classification:\n",
    "\n",
    "In classification, the goal is to predict the categorical class or label of an input. The algorithm learns to assign inputs to predefined classes based on the patterns learned from the labeled training data. Examples include spam detection (classifying emails as spam or not) and image recognition (identifying objects in images).\n",
    "\n",
    "Regression:\n",
    "\n",
    "In regression, the goal is to predict a continuous numerical output. The algorithm learns a mapping function that predicts a real-valued output based on the input features. Examples include predicting house prices based on features like square footage and location, and forecasting stock prices based on historical data. "
   ]
  },
  {
   "cell_type": "markdown",
   "id": "ba37b0fd",
   "metadata": {},
   "source": [
    "Q2: What is supervised learning? List some examples of supervised learning.\n",
    "\n",
    "Supervised Learning:\n",
    "Supervised learning is a type of machine learning where the algorithm is trained on a labeled dataset, consisting of input-output pairs. The goal is to learn a mapping function from inputs to outputs so that the model can make predictions or classify new, unseen data. It is divided into two main categories: classification and regression.\n",
    "\n",
    "Classification:\n",
    "\n",
    "In classification, the goal is to predict the categorical class or label of an input. The algorithm learns to assign inputs to predefined classes based on the patterns learned from the labeled training data. Examples include spam detection (classifying emails as spam or not) and image recognition (identifying objects in images).\n",
    "\n",
    "Regression:\n",
    "\n",
    "In regression, the goal is to predict a continuous numerical output. The algorithm learns a mapping function that predicts a real-valued output based on the input features. Examples include predicting house prices based on features like square footage and location, and forecasting stock prices based on historical data. "
   ]
  },
  {
   "cell_type": "markdown",
   "id": "f19d973c",
   "metadata": {},
   "source": [
    "Q4: What is the difference between AI, ML, DL, and DS?\n",
    "\n",
    "AI (Artificial Intelligence): Encompasses the broader field of creating intelligent machines capable of human-like tasks.\n",
    "\n",
    "ML (Machine Learning): A subset of AI that involves the development of algorithms enabling systems to learn patterns and make decisions from data.\n",
    "\n",
    "DL (Deep Learning): A specialized form of ML that utilizes neural networks with multiple layers to automatically learn hierarchical representations of data.\n",
    "\n",
    "DS (Data Science): Involves extracting insights and knowledge from data using various techniques, including statistics, ML, and AI. It is a broader field that encompasses ML and AI applications in a larger context.\n",
    "\n",
    "\n",
    "\n",
    "\n",
    "\n",
    "\n",
    "\n"
   ]
  },
  {
   "cell_type": "markdown",
   "id": "ef72ab92",
   "metadata": {},
   "source": [
    "Q5: What are the main differences between supervised, unsupervised, and semi-supervised learning?\n",
    "\n",
    "Supervised Learning: Involves training a model on a labeled dataset with input-output pairs, where the algorithm learns to make predictions or classifications based on known outcomes.\n",
    "\n",
    "Unsupervised Learning: Deals with unlabeled data, aiming to find patterns or structures within it, such as clustering similar data points or reducing dimensionality.\n",
    "\n",
    "Semi-Supervised Learning: Combines elements of both by using a dataset with both labeled and unlabeled data, leveraging the advantages of labeled data while exploring the broader patterns within the unlabeled portion.\n",
    "\n",
    "\n",
    "\n",
    "\n",
    "\n"
   ]
  },
  {
   "cell_type": "markdown",
   "id": "fac10186",
   "metadata": {},
   "source": [
    "Q6: What is train, test and validation split? Explain the importance of each term.\n",
    "\n",
    "Train-Test-Validation Split:\n",
    "It involves dividing a dataset into three subsets: the training set used for model training, the test set to evaluate model performance, and the validation set to fine-tune parameters during development."
   ]
  },
  {
   "cell_type": "markdown",
   "id": "da912e02",
   "metadata": {},
   "source": [
    "Q7: How can unsupervised learning be used in anomaly detection?\n",
    "\n",
    "Unsupervised learning in anomaly detection involves training a model on normal data and then identifying instances that deviate from this learned pattern. Clustering or dimensionality reduction techniques help reveal unusual patterns or outliers without the need for labeled anomaly examples."
   ]
  },
  {
   "cell_type": "markdown",
   "id": "4223eb76",
   "metadata": {},
   "source": [
    "Q8: List down some commonly used supervised learning algorithms and unsupervised learning algorithms.\n",
    "\n",
    "\n",
    "- Supervised Learning Algorithms:\n",
    "\n",
    "        Linear Regression: Predicts a continuous output based on input features.\n",
    "\n",
    "        Random Forest: An ensemble method for classification and regression, combining multiple decision trees.\n",
    "- Unsupervised Learning Algorithms:\n",
    "\n",
    "        K-Means Clustering: Groups data points into clusters based on similarity.\n",
    "\n",
    "        Principal Component Analysis (PCA): Reduces dimensionality while preserving data variance, often used for feature extraction\n"
   ]
  },
  {
   "cell_type": "code",
   "execution_count": null,
   "id": "9dcb3729",
   "metadata": {},
   "outputs": [],
   "source": []
  },
  {
   "cell_type": "code",
   "execution_count": null,
   "id": "26625e8e",
   "metadata": {},
   "outputs": [],
   "source": []
  },
  {
   "cell_type": "code",
   "execution_count": null,
   "id": "3bb1c84e",
   "metadata": {},
   "outputs": [],
   "source": []
  }
 ],
 "metadata": {
  "kernelspec": {
   "display_name": "Python 3 (ipykernel)",
   "language": "python",
   "name": "python3"
  },
  "language_info": {
   "codemirror_mode": {
    "name": "ipython",
    "version": 3
   },
   "file_extension": ".py",
   "mimetype": "text/x-python",
   "name": "python",
   "nbconvert_exporter": "python",
   "pygments_lexer": "ipython3",
   "version": "3.9.12"
  }
 },
 "nbformat": 4,
 "nbformat_minor": 5
}
