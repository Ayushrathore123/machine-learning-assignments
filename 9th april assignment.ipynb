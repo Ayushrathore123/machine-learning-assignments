{
 "cells": [
  {
   "cell_type": "markdown",
   "id": "92d647ac",
   "metadata": {},
   "source": [
    "Q1. What is Bayes' theorem?\n",
    "\n",
    "Answer: \n",
    "- Bayes' theorem is a fundamental concept in probability theory. It describes how to update our beliefs about an event based on new evidence. It calculates the probability of an event A given that event B has occurred, by combining the prior probability of A with the likelihood of B given A and the overall probability of B"
   ]
  },
  {
   "cell_type": "markdown",
   "id": "4d89645e",
   "metadata": {},
   "source": [
    "Q2. What is the formula for Bayes' theorem?\n",
    "\n",
    "The formula for Bayes' theorem is as follows:\n",
    "\n",
    "P(A|B) = (P(B|A) * P(A)) / P(B)\n",
    "\n",
    "where:\n",
    "\n",
    "P(A|B) represents the probability of event A occurring given event B has occurred.\n",
    "P(B|A) represents the probability of event B occurring given event A has occurred.\n",
    "P(A) is the prior probability of event A.\n",
    "P(B) is the overall probability of event B"
   ]
  },
  {
   "cell_type": "markdown",
   "id": "1cd758b5",
   "metadata": {},
   "source": [
    "Q3. How is Bayes' theorem used in practice?\n",
    "\n",
    "- Bayes' theorem is widely used in various fields, including statistics, machine learning, and data analysis. It helps in updating probabilities based on new evidence or data. It is utilized for tasks such as spam filtering, medical diagnoses, predictive modeling, and decision-making under uncertainty."
   ]
  },
  {
   "cell_type": "markdown",
   "id": "ba594066",
   "metadata": {},
   "source": [
    "Q4. What is the relationship between Bayes' theorem and conditional probability?\n",
    "\n",
    "\n",
    " - Bayes' theorem is derived from conditional probability. It provides a way to calculate the conditional probability of an event A given event B by relating it to the conditional probability of event B given event A. Bayes' theorem offers a formal framework for updating our beliefs about an event based on observed evidence or conditional probabilities."
   ]
  },
  {
   "cell_type": "markdown",
   "id": "5373b5f4",
   "metadata": {},
   "source": [
    "Q5. How do you choose which type of Naive Bayes classifier to use for any given problem?\n",
    "\n",
    "- When choosing a type of Naive Bayes classifier for a problem, consider the nature of the data and the assumptions of each classifier variant. The three commonly used variants are Gaussian Naive Bayes, Multinomial Naive Bayes, and Bernoulli Naive Bayes.\n",
    "\n",
    "\n",
    "\n",
    "- Gaussian Naive Bayes works well with continuous numerical data.\n",
    "- Multinomial Naive Bayes is suitable for discrete features, often used in text classification.\n",
    "- Bernoulli Naive Bayes is useful for binary features or presence/absence data. Select the variant that aligns best with the characteristics of your data to maximize classifier performance."
   ]
  },
  {
   "cell_type": "markdown",
   "id": "ccadffd0",
   "metadata": {},
   "source": [
    "Q6. Assignment:\n",
    "- You have a dataset with two features, X1 and X2, and two possible classes, A and B. You want to use Naive Bayes to classify a new instance with features X1 = 3 and X2 = 4. The following table shows the frequency of each feature value for each class:\n",
    "- Class X1=1 X1=2 X1=3 X2=1 X2=2 X2=3 X2=4\n",
    "- A 3 3 4 4 3 3 3\n",
    "- B 2 2 1 2 2 2 3\n",
    "- Assuming equal prior probabilities for each class, which class would Naive Bayes predict the new instance to belong to?"
   ]
  },
  {
   "cell_type": "markdown",
   "id": "45bf65a3",
   "metadata": {},
   "source": [
    "P(X1 = 3 | A) = 4/14\n",
    "P(X1 = 3 | B) = 1/5\n",
    "\n",
    "P(X2 = 4 | A) = 3/9\n",
    "P(X2 = 4 | B) = 3/7\n",
    "\n",
    "Now, let's calculate the likelihoods:\n",
    "\n",
    "For class A:\n",
    "P(X1 = 3, X2 = 4 | A) = P(X1 = 3 | A) * P(X2 = 4 | A) = (4/14) * (3/9) = 12/126 ≈ 0.095\n",
    "\n",
    "For class B:\n",
    "P(X1 = 3, X2 = 4 | B) = P(X1 = 3 | B) * P(X2 = 4 | B) = (1/5) * (3/7) = 3/35 ≈ 0.086\n",
    "\n",
    "Comparing the likelihoods, P(X1 = 3, X2 = 4 | A) ≈ 0.095 is greater than P(X1 = 3, X2 = 4 | B) ≈ 0.086. Therefore, Naive Bayes would predict the new instance to belong to class A."
   ]
  },
  {
   "cell_type": "code",
   "execution_count": null,
   "id": "80f64784",
   "metadata": {},
   "outputs": [],
   "source": []
  },
  {
   "cell_type": "code",
   "execution_count": null,
   "id": "e9cdce24",
   "metadata": {},
   "outputs": [],
   "source": []
  },
  {
   "cell_type": "code",
   "execution_count": null,
   "id": "3e552dad",
   "metadata": {},
   "outputs": [],
   "source": []
  },
  {
   "cell_type": "code",
   "execution_count": null,
   "id": "abb7a4df",
   "metadata": {},
   "outputs": [],
   "source": []
  }
 ],
 "metadata": {
  "kernelspec": {
   "display_name": "Python 3 (ipykernel)",
   "language": "python",
   "name": "python3"
  },
  "language_info": {
   "codemirror_mode": {
    "name": "ipython",
    "version": 3
   },
   "file_extension": ".py",
   "mimetype": "text/x-python",
   "name": "python",
   "nbconvert_exporter": "python",
   "pygments_lexer": "ipython3",
   "version": "3.9.12"
  }
 },
 "nbformat": 4,
 "nbformat_minor": 5
}
