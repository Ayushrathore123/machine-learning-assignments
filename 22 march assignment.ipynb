{
 "cells": [
  {
   "cell_type": "markdown",
   "id": "7546f0df",
   "metadata": {},
   "source": [
    "Q1. Pearson correlation coefficient is a measure of the linear relationship between two variables. Suppose\n",
    "you have collected data on the amount of time students spend studying for an exam and their final exam\n",
    "scores. Calculate the Pearson correlation coefficient between these two variables and interpret the result."
   ]
  },
  {
   "cell_type": "code",
   "execution_count": 8,
   "id": "ea492b1b",
   "metadata": {},
   "outputs": [
    {
     "data": {
      "text/html": [
       "<div>\n",
       "<style scoped>\n",
       "    .dataframe tbody tr th:only-of-type {\n",
       "        vertical-align: middle;\n",
       "    }\n",
       "\n",
       "    .dataframe tbody tr th {\n",
       "        vertical-align: top;\n",
       "    }\n",
       "\n",
       "    .dataframe thead th {\n",
       "        text-align: right;\n",
       "    }\n",
       "</style>\n",
       "<table border=\"1\" class=\"dataframe\">\n",
       "  <thead>\n",
       "    <tr style=\"text-align: right;\">\n",
       "      <th></th>\n",
       "      <th>The amount of time students spend studying</th>\n",
       "      <th>Final exam scores</th>\n",
       "    </tr>\n",
       "  </thead>\n",
       "  <tbody>\n",
       "    <tr>\n",
       "      <th>The amount of time students spend studying</th>\n",
       "      <td>1.000000</td>\n",
       "      <td>0.978971</td>\n",
       "    </tr>\n",
       "    <tr>\n",
       "      <th>Final exam scores</th>\n",
       "      <td>0.978971</td>\n",
       "      <td>1.000000</td>\n",
       "    </tr>\n",
       "  </tbody>\n",
       "</table>\n",
       "</div>"
      ],
      "text/plain": [
       "                                            The amount of time students spend studying  \\\n",
       "The amount of time students spend studying                                    1.000000   \n",
       "Final exam scores                                                             0.978971   \n",
       "\n",
       "                                            Final exam scores  \n",
       "The amount of time students spend studying           0.978971  \n",
       "Final exam scores                                    1.000000  "
      ]
     },
     "execution_count": 8,
     "metadata": {},
     "output_type": "execute_result"
    }
   ],
   "source": [
    "import pandas as pd\n",
    "\n",
    "\n",
    "df=pd.DataFrame({\n",
    "    \"The amount of time students spend studying\":[3,4,5,6,7,8,9],\n",
    "    \"Final exam scores\":[40,45,50,60,77,80,99]\n",
    "})\n",
    "\n",
    "df.corr(method=\"pearson\")"
   ]
  },
  {
   "cell_type": "markdown",
   "id": "eee7e118",
   "metadata": {},
   "source": [
    "Q2. Spearman's rank correlation is a measure of the monotonic relationship between two variables.\n",
    "Suppose you have collected data on the amount of sleep individuals get each night and their overall job\n",
    "satisfaction level on a scale of 1 to 10. Calculate the Spearman's rank correlation between these two\n",
    "variables and interpret the result."
   ]
  },
  {
   "cell_type": "code",
   "execution_count": 12,
   "id": "c6d8814c",
   "metadata": {},
   "outputs": [],
   "source": [
    "df1=pd.DataFrame({\n",
    "    \"amount of sleep(hours)\":[4,5,6,7,8,9,10],\n",
    "    \"job satisfaction\":[8,9,6,7,8,3,4]\n",
    "})"
   ]
  },
  {
   "cell_type": "code",
   "execution_count": 13,
   "id": "a44a36d8",
   "metadata": {},
   "outputs": [
    {
     "data": {
      "text/html": [
       "<div>\n",
       "<style scoped>\n",
       "    .dataframe tbody tr th:only-of-type {\n",
       "        vertical-align: middle;\n",
       "    }\n",
       "\n",
       "    .dataframe tbody tr th {\n",
       "        vertical-align: top;\n",
       "    }\n",
       "\n",
       "    .dataframe thead th {\n",
       "        text-align: right;\n",
       "    }\n",
       "</style>\n",
       "<table border=\"1\" class=\"dataframe\">\n",
       "  <thead>\n",
       "    <tr style=\"text-align: right;\">\n",
       "      <th></th>\n",
       "      <th>amount of sleep(hours)</th>\n",
       "      <th>job satisfaction</th>\n",
       "    </tr>\n",
       "  </thead>\n",
       "  <tbody>\n",
       "    <tr>\n",
       "      <th>amount of sleep(hours)</th>\n",
       "      <td>1.00000</td>\n",
       "      <td>-0.72075</td>\n",
       "    </tr>\n",
       "    <tr>\n",
       "      <th>job satisfaction</th>\n",
       "      <td>-0.72075</td>\n",
       "      <td>1.00000</td>\n",
       "    </tr>\n",
       "  </tbody>\n",
       "</table>\n",
       "</div>"
      ],
      "text/plain": [
       "                        amount of sleep(hours)  job satisfaction\n",
       "amount of sleep(hours)                 1.00000          -0.72075\n",
       "job satisfaction                      -0.72075           1.00000"
      ]
     },
     "execution_count": 13,
     "metadata": {},
     "output_type": "execute_result"
    }
   ],
   "source": [
    "df1.corr(method=\"spearman\")"
   ]
  },
  {
   "cell_type": "markdown",
   "id": "b8180aeb",
   "metadata": {},
   "source": [
    "Q3. Suppose you are conducting a study to examine the relationship between the number of hours of\n",
    "exercise per week and body mass index (BMI) in a sample of adults. You collected data on both variables\n",
    "for 50 participants. Calculate the Pearson correlation coefficient and the Spearman's rank correlation\n",
    "between these two variables and compare the results."
   ]
  },
  {
   "cell_type": "code",
   "execution_count": 14,
   "id": "4d92a897",
   "metadata": {},
   "outputs": [],
   "source": [
    "import numpy as np"
   ]
  },
  {
   "cell_type": "code",
   "execution_count": 43,
   "id": "d6711b7f",
   "metadata": {},
   "outputs": [],
   "source": [
    "np.random.seed(34)\n",
    "data=pd.DataFrame({\n",
    "     \"number of hours of exercise per week\":np.random.randint(2,8,50),\n",
    "    \"body mass index (BMI)\":np.random.randint(18,38,50)\n",
    "})\n",
    "\n",
    "correlation_pearson=df.corr(method=\"pearson\")\n",
    "correlation_spearman=df.corr(method=\"spearman\")\n",
    "\n"
   ]
  },
  {
   "cell_type": "code",
   "execution_count": 44,
   "id": "6f7452bc",
   "metadata": {},
   "outputs": [
    {
     "data": {
      "text/html": [
       "<div>\n",
       "<style scoped>\n",
       "    .dataframe tbody tr th:only-of-type {\n",
       "        vertical-align: middle;\n",
       "    }\n",
       "\n",
       "    .dataframe tbody tr th {\n",
       "        vertical-align: top;\n",
       "    }\n",
       "\n",
       "    .dataframe thead th {\n",
       "        text-align: right;\n",
       "    }\n",
       "</style>\n",
       "<table border=\"1\" class=\"dataframe\">\n",
       "  <thead>\n",
       "    <tr style=\"text-align: right;\">\n",
       "      <th></th>\n",
       "      <th>The amount of time students spend studying</th>\n",
       "      <th>Final exam scores</th>\n",
       "    </tr>\n",
       "  </thead>\n",
       "  <tbody>\n",
       "    <tr>\n",
       "      <th>The amount of time students spend studying</th>\n",
       "      <td>1.000000</td>\n",
       "      <td>0.978971</td>\n",
       "    </tr>\n",
       "    <tr>\n",
       "      <th>Final exam scores</th>\n",
       "      <td>0.978971</td>\n",
       "      <td>1.000000</td>\n",
       "    </tr>\n",
       "  </tbody>\n",
       "</table>\n",
       "</div>"
      ],
      "text/plain": [
       "                                            The amount of time students spend studying  \\\n",
       "The amount of time students spend studying                                    1.000000   \n",
       "Final exam scores                                                             0.978971   \n",
       "\n",
       "                                            Final exam scores  \n",
       "The amount of time students spend studying           0.978971  \n",
       "Final exam scores                                    1.000000  "
      ]
     },
     "execution_count": 44,
     "metadata": {},
     "output_type": "execute_result"
    }
   ],
   "source": [
    "correlation_pearson"
   ]
  },
  {
   "cell_type": "code",
   "execution_count": 45,
   "id": "1b50d580",
   "metadata": {},
   "outputs": [
    {
     "data": {
      "text/html": [
       "<div>\n",
       "<style scoped>\n",
       "    .dataframe tbody tr th:only-of-type {\n",
       "        vertical-align: middle;\n",
       "    }\n",
       "\n",
       "    .dataframe tbody tr th {\n",
       "        vertical-align: top;\n",
       "    }\n",
       "\n",
       "    .dataframe thead th {\n",
       "        text-align: right;\n",
       "    }\n",
       "</style>\n",
       "<table border=\"1\" class=\"dataframe\">\n",
       "  <thead>\n",
       "    <tr style=\"text-align: right;\">\n",
       "      <th></th>\n",
       "      <th>The amount of time students spend studying</th>\n",
       "      <th>Final exam scores</th>\n",
       "    </tr>\n",
       "  </thead>\n",
       "  <tbody>\n",
       "    <tr>\n",
       "      <th>The amount of time students spend studying</th>\n",
       "      <td>1.0</td>\n",
       "      <td>1.0</td>\n",
       "    </tr>\n",
       "    <tr>\n",
       "      <th>Final exam scores</th>\n",
       "      <td>1.0</td>\n",
       "      <td>1.0</td>\n",
       "    </tr>\n",
       "  </tbody>\n",
       "</table>\n",
       "</div>"
      ],
      "text/plain": [
       "                                            The amount of time students spend studying  \\\n",
       "The amount of time students spend studying                                         1.0   \n",
       "Final exam scores                                                                  1.0   \n",
       "\n",
       "                                            Final exam scores  \n",
       "The amount of time students spend studying                1.0  \n",
       "Final exam scores                                         1.0  "
      ]
     },
     "execution_count": 45,
     "metadata": {},
     "output_type": "execute_result"
    }
   ],
   "source": [
    "correlation_spearman"
   ]
  },
  {
   "cell_type": "markdown",
   "id": "402cc775",
   "metadata": {},
   "source": [
    "Q4. A researcher is interested in examining the relationship between the number of hours individuals\n",
    "spend watching television per day and their level of physical activity. The researcher collected data on\n",
    "both variables from a sample of 50 participants. Calculate the Pearson correlation coefficient between\n",
    "these two variables."
   ]
  },
  {
   "cell_type": "code",
   "execution_count": 52,
   "id": "6d4b8934",
   "metadata": {},
   "outputs": [
    {
     "data": {
      "text/html": [
       "<div>\n",
       "<style scoped>\n",
       "    .dataframe tbody tr th:only-of-type {\n",
       "        vertical-align: middle;\n",
       "    }\n",
       "\n",
       "    .dataframe tbody tr th {\n",
       "        vertical-align: top;\n",
       "    }\n",
       "\n",
       "    .dataframe thead th {\n",
       "        text-align: right;\n",
       "    }\n",
       "</style>\n",
       "<table border=\"1\" class=\"dataframe\">\n",
       "  <thead>\n",
       "    <tr style=\"text-align: right;\">\n",
       "      <th></th>\n",
       "      <th>The number of hours individuals spend watching television per day</th>\n",
       "      <th>The number of hours individuals spend level of physical activity</th>\n",
       "    </tr>\n",
       "  </thead>\n",
       "  <tbody>\n",
       "    <tr>\n",
       "      <th>The number of hours individuals spend watching television per day</th>\n",
       "      <td>1.000000</td>\n",
       "      <td>-0.024314</td>\n",
       "    </tr>\n",
       "    <tr>\n",
       "      <th>The number of hours individuals spend level of physical activity</th>\n",
       "      <td>-0.024314</td>\n",
       "      <td>1.000000</td>\n",
       "    </tr>\n",
       "  </tbody>\n",
       "</table>\n",
       "</div>"
      ],
      "text/plain": [
       "                                                    The number of hours individuals spend watching television per day  \\\n",
       "The number of hours individuals spend watching ...                                           1.000000                   \n",
       "The number of hours individuals spend level of ...                                          -0.024314                   \n",
       "\n",
       "                                                    The number of hours individuals spend level of physical activity  \n",
       "The number of hours individuals spend watching ...                                          -0.024314                 \n",
       "The number of hours individuals spend level of ...                                           1.000000                 "
      ]
     },
     "execution_count": 52,
     "metadata": {},
     "output_type": "execute_result"
    }
   ],
   "source": [
    "np.random.seed(5)\n",
    "data1=pd.DataFrame({\n",
    "    \"The number of hours individuals spend watching television per day\":np.random.randint(1,15,50),\n",
    "    \"The number of hours individuals spend level of physical activity\":np.random.randint(1,8,50)\n",
    "})\n",
    "\n",
    "data1.corr(method=\"pearson\")"
   ]
  },
  {
   "attachments": {
    "image.png": {
     "image/png": "[encoded data removed]"
    }
   },
   "cell_type": "markdown",
   "id": "02cbafc6",
   "metadata": {},
   "source": [
    "Q5. A survey was conducted to examine the relationship between age and preference for a particular\n",
    "brand of soft drink. The survey results are shown below:\n",
    "![image.png](attachment:image.png)"
   ]
  },
  {
   "cell_type": "code",
   "execution_count": 63,
   "id": "fd5e468d",
   "metadata": {},
   "outputs": [
    {
     "name": "stdout",
     "output_type": "stream",
     "text": [
      "Covariance:\n",
      "             Age (Years)\n",
      "Age (Years)    68.666667\n",
      "\n",
      "Correlation:\n",
      "             Age (Years)\n",
      "Age (Years)          1.0\n"
     ]
    },
    {
     "data": {
      "text/plain": [
       "\"Conclusion: Based on the perfect correlation coefficient of 1.0, we can conclude that there is a strong positive linear relationship between age and soft drink preference in this small dataset. However, it's important to note that this result is specific to the given dataset and may not generalize to a larger population. Additionally, it's worth considering other factors and conducting a more comprehensive analysis to understand the drivers of soft drink preference.\""
      ]
     },
     "execution_count": 63,
     "metadata": {},
     "output_type": "execute_result"
    }
   ],
   "source": [
    "import pandas as pd\n",
    "\n",
    "df = pd.DataFrame({\n",
    "    \"Soft drink preference\": [\"Coke\", \"Pepsi\", \"Mountain Dew\", \"Coke\", \"Pepsi\", \"Coke\"],\n",
    "    \"Age (Years)\": [25, 42, 37, 19, 31, 28]\n",
    "})\n",
    "\n",
    "# Calculate covariance\n",
    "covariance = df.cov()\n",
    "print(\"Covariance:\")\n",
    "print(covariance)\n",
    "\n",
    "# Calculate correlation\n",
    "correlation = df.corr()\n",
    "print(\"\\nCorrelation:\")\n",
    "print(correlation)\n",
    "\n",
    "\"Conclusion: Based on the perfect correlation coefficient of 1.0, we can conclude that there is a strong positive linear relationship between age and soft drink preference in this small dataset. However, it's important to note that this result is specific to the given dataset and may not generalize to a larger population. Additionally, it's worth considering other factors and conducting a more comprehensive analysis to understand the drivers of soft drink preference.\""
   ]
  },
  {
   "cell_type": "markdown",
   "id": "714b3a26",
   "metadata": {},
   "source": [
    "Q6. A company is interested in examining the relationship between the number of sales calls made per day\n",
    "and the number of sales made per week. The company collected data on both variables from a sample of\n",
    "30 sales representatives. Calculate the Pearson correlation coefficient between these two variables.\n"
   ]
  },
  {
   "cell_type": "code",
   "execution_count": 70,
   "id": "24acea8b",
   "metadata": {},
   "outputs": [
    {
     "data": {
      "text/html": [
       "<div>\n",
       "<style scoped>\n",
       "    .dataframe tbody tr th:only-of-type {\n",
       "        vertical-align: middle;\n",
       "    }\n",
       "\n",
       "    .dataframe tbody tr th {\n",
       "        vertical-align: top;\n",
       "    }\n",
       "\n",
       "    .dataframe thead th {\n",
       "        text-align: right;\n",
       "    }\n",
       "</style>\n",
       "<table border=\"1\" class=\"dataframe\">\n",
       "  <thead>\n",
       "    <tr style=\"text-align: right;\">\n",
       "      <th></th>\n",
       "      <th>The number of sales calls made per day</th>\n",
       "      <th>The number of sales made per week</th>\n",
       "    </tr>\n",
       "  </thead>\n",
       "  <tbody>\n",
       "    <tr>\n",
       "      <th>The number of sales calls made per day</th>\n",
       "      <td>1.000000</td>\n",
       "      <td>-0.084911</td>\n",
       "    </tr>\n",
       "    <tr>\n",
       "      <th>The number of sales made per week</th>\n",
       "      <td>-0.084911</td>\n",
       "      <td>1.000000</td>\n",
       "    </tr>\n",
       "  </tbody>\n",
       "</table>\n",
       "</div>"
      ],
      "text/plain": [
       "                                         The number of sales calls made per day   \\\n",
       "The number of sales calls made per day                                  1.000000   \n",
       " The number of sales made per week                                     -0.084911   \n",
       "\n",
       "                                          The number of sales made per week  \n",
       "The number of sales calls made per day                            -0.084911  \n",
       " The number of sales made per week                                 1.000000  "
      ]
     },
     "execution_count": 70,
     "metadata": {},
     "output_type": "execute_result"
    }
   ],
   "source": [
    "np.random.seed(9)\n",
    "df=pd.DataFrame({\n",
    "    \"The number of sales calls made per day \":np.random.randint(8,50,30),\n",
    "   \" The number of sales made per week\":np.random.randint(3,10,30)\n",
    "})\n",
    "\n",
    "df.corr(method=\"pearson\")"
   ]
  },
  {
   "cell_type": "code",
   "execution_count": null,
   "id": "fad5358f",
   "metadata": {},
   "outputs": [],
   "source": []
  }
 ],
 "metadata": {
  "kernelspec": {
   "display_name": "Python 3 (ipykernel)",
   "language": "python",
   "name": "python3"
  },
  "language_info": {
   "codemirror_mode": {
    "name": "ipython",
    "version": 3
   },
   "file_extension": ".py",
   "mimetype": "text/x-python",
   "name": "python",
   "nbconvert_exporter": "python",
   "pygments_lexer": "ipython3",
   "version": "3.9.12"
  }
 },
 "nbformat": 4,
 "nbformat_minor": 5
}
