{
 "cells": [
  {
   "cell_type": "markdown",
   "id": "3b6f458c",
   "metadata": {},
   "source": [
    "Q1 explain the following\n",
    "\n",
    ")Artificial Intelligence (AI): AI refers to the development of intelligent machines that can perform tasks that typically require human intelligence. It involves the study and application of various techniques and algorithms to enable machines to perceive, reason, learn, and make decisions.\n",
    "\n",
    ") Machine Learning: Machine Learning is a subset of AI that focuses on designing algorithms and models that enable computers to learn and make predictions or decisions without being explicitly programmed. It involves training a model on a dataset to identify patterns and make inferences or predictions based on new data.\n",
    "\n",
    ") Deep Learning: Deep Learning is a subfield of Machine Learning that specifically deals with neural networks with multiple layers (hence the term \"deep\"). Deep Learning models, called Deep Neural Networks (DNNs), are designed to automatically learn hierarchical representations of data and extract complex features. They have achieved remarkable success in various tasks such as image recognition, natural language processing, and speech recognition."
   ]
  },
  {
   "cell_type": "markdown",
   "id": "ff31d6f4",
   "metadata": {},
   "source": [
    "Q2. What is supervised learning? List some examples of supervised learning algorithms.\n",
    "\n",
    "\n",
    "-Supervised learning, also known as supervised machine learning, is a subcategory of machine learning and artificial \n",
    "intelligence. It is defined by its use of labeled datasets to train algorithms that to classify data or predict outcomes \n",
    "accurately. As input data is fed into the model, it adjusts its weights until the model has been fitted appropriately,\n",
    "which occurs as part of the cross validation process. Supervised learning helps organizations solve for a variety of\n",
    "real-world problems at scale, such as classifying spam in a separate folder from your inbox.\n",
    "\n",
    "Examples-text classification,spam or ham classification.'''"
   ]
  },
  {
   "cell_type": "markdown",
   "id": "4efcebf4",
   "metadata": {},
   "source": [
    "Q3. What is unsupervised learning? List some examples of unsupervised learning algorithms."
   ]
  },
  {
   "cell_type": "markdown",
   "id": "a30871e1",
   "metadata": {},
   "source": [
    "Unsupervised learning, also known as unsupervised machine learning, uses machine learning algorithms to analyze and \n",
    "cluster unlabeled datasets. These algorithms discover hidden patterns or data groupings without the need for human \n",
    "intervention.\n",
    "\n",
    "Example-dimesion reductin,clustering and image classification etc"
   ]
  },
  {
   "cell_type": "markdown",
   "id": "f0fcb692",
   "metadata": {},
   "source": [
    "Q4. What is the difference between AI, ML, DL, and DS?"
   ]
  },
  {
   "cell_type": "markdown",
   "id": "e53a5e51",
   "metadata": {},
   "source": [
    "Machine Learning (ML) is a subset of AI; it provides us statistical tools/techniques like Supervised, Unsupervised, \n",
    "and Reinforcement learning to explore and analyze the data.Deep Learning (DL) is further a subset of ML, and the main \n",
    "idea behind it is to make machines learn by mimicking the human brain.\n",
    "While the data science can consist of each or all parts of these technologies like AI,ML,DL"
   ]
  },
  {
   "cell_type": "markdown",
   "id": "db19914e",
   "metadata": {},
   "source": [
    "Q5. What are the main differences between supervised, unsupervised, and semi-supervised learning?\n",
    "\n",
    "\n",
    "\n",
    "\n"
   ]
  },
  {
   "cell_type": "markdown",
   "id": "ab52e19d",
   "metadata": {},
   "source": [
    "    Supervised Learning:\n",
    "\n",
    "Uses labeled data with known input-output pairs.\n",
    "\n",
    "Learns to predict or classify new, unseen data based on the labeled examples.\n",
    "\n",
    "Requires a target or label variable for training.\n",
    "\n",
    "Examples: Email spam detection, image classification, sentiment analysis.\n",
    "\n",
    "    Unsupervised Learning:\n",
    "\n",
    "\n",
    "Uses unlabeled data without predefined target values.\n",
    "\n",
    "Discovers patterns, structures, or relationships in the data.\n",
    "\n",
    "Focuses on finding clusters, associations, or latent factors.\n",
    "\n",
    "Examples: Customer segmentation, anomaly detection, topic modeling.\n",
    "\n",
    "    Semi-Supervised Learning:\n",
    "\n",
    "\n",
    "Uses a combination of labeled and unlabeled data.\n",
    "\n",
    "Uses labeled data to guide the learning process and enhance performance.\n",
    "\n",
    "Takes advantage of the additional information provided by unlabeled data.\n",
    "\n",
    "Useful when labeled data is limited or expensive to obtain.\n",
    "\n",
    "Examples: Document categorization, speech recognition, protein function prediction."
   ]
  },
  {
   "cell_type": "markdown",
   "id": "37499176",
   "metadata": {},
   "source": [
    "Q6- What is train, test and validation split? Explain the importance of each term."
   ]
  },
  {
   "cell_type": "markdown",
   "id": "3f1938e4",
   "metadata": {},
   "source": [
    "    Train Split:\n",
    "\n",
    "In machine learning, the train split refers to a portion of the dataset that is used to train or build the model.\n",
    "\n",
    "It is the part of the dataset that the model learns from and adjusts its parameters or weights.\n",
    "\n",
    "The train split is typically the largest portion of the dataset, often around 70-80% of the total data.\n",
    "\n",
    "    Test Split:\n",
    "\n",
    "The test split is a portion of the dataset that is used to evaluate the performance of the trained model.\n",
    "\n",
    "It serves as an independent set of data to assess how well the model generalizes to unseen examples.\n",
    "\n",
    "The test split is not used during the model training process to prevent bias and overfitting.\n",
    "\n",
    "It is usually around 10-20% of the total data.\n",
    "\n",
    "    Validation Split:\n",
    "\n",
    "The validation split is an optional subset of the dataset used during the model training process.\n",
    "\n",
    "It is used to fine-tune model hyperparameters and make decisions on model selection.\n",
    "\n",
    "The validation split helps assess the performance of different models and avoid overfitting.\n",
    "\n",
    "It is typically around 10-20% of the total data, separate from the train and test splits.\n",
    "\n",
    "    Importance of Each Split:\n",
    "\n",
    "Train Split: The train split is crucial as it forms the basis for the model's learning. It allows the model to understand patterns and relationships in the data.\n",
    "\n",
    "Test Split: The test split is essential to assess how well the trained model performs on unseen data. It provides an estimate of the model's generalization ability.\n",
    "\n",
    "Validation Split: The validation split helps optimize the model's performance by tuning hyperparameters and preventing overfitting. It aids in model selection and fine-tuning."
   ]
  },
  {
   "cell_type": "markdown",
   "id": "c0182772",
   "metadata": {},
   "source": [
    "Q7- How can unsupervised learning be used in anomaly detection?"
   ]
  },
  {
   "cell_type": "markdown",
   "id": "7b013d68",
   "metadata": {},
   "source": [
    "Unsupervised learning for anomaly detection is effective because it does not rely on labeled anomalous data for training. It learns the inherent structures of the data and identifies deviations from those structures. This makes it suitable for detecting novel or unknown anomalies, as it can identify patterns that may not have been previously defined."
   ]
  },
  {
   "cell_type": "markdown",
   "id": "f90c5ce1",
   "metadata": {},
   "source": [
    "Q8- List down some commonly used supervised learning algorithms and unsupervised learning algorithms.?"
   ]
  },
  {
   "cell_type": "markdown",
   "id": "4b49e7ee",
   "metadata": {},
   "source": [
    "    Supervised Learning Algorithms:\n",
    "\n",
    "Linear Regression: A regression algorithm used for predicting continuous target variables based on linear relationships.\n",
    "\n",
    "Logistic Regression: A classification algorithm used for binary or multi-class classification problems.\n",
    "\n",
    "Decision Trees: A versatile algorithm for both classification and regression tasks that uses a tree-like model of decisions and their possible consequences.\n",
    "\n",
    "Random Forest: An ensemble algorithm that combines multiple decision trees to make more accurate predictions.\n",
    "\n",
    "Support Vector Machines (SVM): A powerful algorithm for both classification and regression tasks that finds the best hyperplane to separate classes or estimate values.\n",
    "\n",
    "Naive Bayes: A simple yet effective probabilistic classifier based on Bayes' theorem and strong independence assumptions between features.\n",
    "\n",
    "    Unsupervised Learning Algorithms:\n",
    "\n",
    "K-means Clustering: A popular algorithm for partitioning data into clusters based on similarity.\n",
    "\n",
    "Hierarchical Clustering: A method that creates a hierarchy of clusters by recursively merging or splitting them based on proximity.\n",
    "\n",
    "Principal Component Analysis (PCA): A technique for reducing the dimensionality of high-dimensional data while preserving its variance.\n",
    "\n",
    "DBSCAN (Density-Based Spatial Clustering of Applications with Noise): A density-based clustering algorithm that groups together dense regions of data.\n",
    "\n",
    "Gaussian Mixture Models (GMM): A probabilistic model that represents data points as a mixture of Gaussian distributions, often used for clustering.\n",
    "\n",
    "Association Rule Learning: A technique for discovering interesting relationships or patterns among items in large datasets, often used in market basket analysis."
   ]
  },
  {
   "cell_type": "code",
   "execution_count": null,
   "id": "5d0ede31",
   "metadata": {},
   "outputs": [],
   "source": []
  }
 ],
 "metadata": {
  "kernelspec": {
   "display_name": "Python 3 (ipykernel)",
   "language": "python",
   "name": "python3"
  },
  "language_info": {
   "codemirror_mode": {
    "name": "ipython",
    "version": 3
   },
   "file_extension": ".py",
   "mimetype": "text/x-python",
   "name": "python",
   "nbconvert_exporter": "python",
   "pygments_lexer": "ipython3",
   "version": "3.9.12"
  }
 },
 "nbformat": 4,
 "nbformat_minor": 5
}
