{
 "cells": [
  {
   "cell_type": "markdown",
   "id": "5222c5d4",
   "metadata": {},
   "source": [
    "Q1. What is the difference between Ordinal Encoding and Label Encoding? Provide an example of when you\n",
    "might choose one over the other."
   ]
  },
  {
   "cell_type": "raw",
   "id": "711603c6",
   "metadata": {},
   "source": [
    "Ordinal Encoding:\n",
    "Assigns numerical labels to categories based on their order or rank.\n",
    "Preserves the ordinal relationship between categories.\n",
    "Typically used when there is a clear ordering or hierarchy among the categories.\n",
    "Example: Encoding education levels as 0 for \"high school,\" 1 for \"college,\" and 2 for \"graduate school.\"\n",
    "\n",
    "Label Encoding:\n",
    "Assigns arbitrary numerical labels to categories without considering any order or rank.\n",
    "Does not preserve any ordinal relationship between categories.\n",
    "Typically used when there is no inherent order among the categories.\n",
    "Example: Encoding colors as 0 for \"blue,\" 1 for \"green\", and 2 for \"red.\"\n",
    "When to choose one over the other:\n",
    "\n",
    "Use ordinal encoding when the categorical feature has a meaningful order or hierarchy. This is suitable when the categories have a clear progression or rank, such as education levels or ratings.\n",
    "Use label encoding when the categorical feature has no natural order or hierarchy. This is appropriate when the categories are distinct and do not have any inherent ranking, such as colors or genres."
   ]
  },
  {
   "cell_type": "markdown",
   "id": "7f66fbe1",
   "metadata": {},
   "source": [
    "Q2. Explain how Target Guided Ordinal Encoding works and provide an example of when you might use it in\n",
    "a machine learning project."
   ]
  },
  {
   "cell_type": "markdown",
   "id": "0225f4b2",
   "metadata": {},
   "source": [
    "\n",
    "Target Guided Ordinal Encoding is a technique that assigns numerical labels to categorical variables based on the target variable's relationship with the categories. It calculates the mean (or other statistical measure) of the target variable for each category and assigns labels in ascending or descending order based on these values. This encoding captures the relationship between the categories and the target variable.\n",
    "\n",
    "An example use case of Target Guided Ordinal Encoding is in predicting customer churn. If we have a categorical feature \"payment_method\" and want to encode it based on the average churn rate associated with each method, we can use Target Guided Ordinal Encoding to assign labels in ascending order of churn rate, where the method with the highest churn rate gets the highest label. This helps capture the correlation between the payment method and the target variable in the encoding."
   ]
  },
  {
   "cell_type": "markdown",
   "id": "d0299480",
   "metadata": {},
   "source": [
    "Q3. Define covariance and explain why it is important in statistical analysis. How is covariance calculated?"
   ]
  },
  {
   "cell_type": "markdown",
   "id": "d158ec85",
   "metadata": {},
   "source": [
    "Covariance measures the relationship between two variables and indicates how they vary together. It is important in statistical analysis as it helps in understanding the direction and strength of the linear relationship between variables. Covariance is calculated by taking the average of the product of the deviations of each variable from their respective means."
   ]
  },
  {
   "cell_type": "markdown",
   "id": "6ac040a1",
   "metadata": {},
   "source": [
    "Q4. For a dataset with the following categorical variables: Color (red, green, blue), Size (small, medium,\n",
    "large), and Material (wood, metal, plastic), perform label encoding using Python's scikit-learn library.\n",
    "Show your code and explain the output.\n",
    "\n"
   ]
  },
  {
   "cell_type": "code",
   "execution_count": 10,
   "id": "9e6a6688",
   "metadata": {},
   "outputs": [
    {
     "name": "stdout",
     "output_type": "stream",
     "text": [
      "encoded_color [2 1 0]\n",
      "encoded_Size [2 1 0]\n",
      "encoded_material [2 0 1]\n"
     ]
    }
   ],
   "source": [
    "import pandas as pd\n",
    "from sklearn.preprocessing import LabelEncoder\n",
    " \n",
    "Color =['red', 'green', 'blue'] \n",
    "Size =[\"small\", \"medium\", \"large\"]\n",
    "Material =[\"wood\", \"metal\", \"plastic\"]\n",
    "\n",
    "encoder=LabelEncoder()\n",
    "\n",
    "encoded_color=encoder.fit_transform(Color)\n",
    "encoded_size=encoder.fit_transform(Size)\n",
    "encoded_material=encoder.fit_transform(Material)\n",
    "\n",
    "\n",
    "print(\"encoded_color\",encoded_color)\n",
    "print(\"encoded_Size\",encoded_size)\n",
    "print(\"encoded_material\",encoded_material)"
   ]
  },
  {
   "cell_type": "markdown",
   "id": "34df2316",
   "metadata": {},
   "source": [
    "Q5. Calculate the covariance matrix for the following variables in a dataset: Age, Income, and Education\n",
    "level. Interpret the results."
   ]
  },
  {
   "cell_type": "code",
   "execution_count": 22,
   "id": "e0cc7ec1",
   "metadata": {},
   "outputs": [
    {
     "name": "stdout",
     "output_type": "stream",
     "text": [
      "               Age       Income  Education\n",
      "Age           62.5      87500.0       25.0\n",
      "Income     87500.0  125000000.0    35000.0\n",
      "Education     25.0      35000.0       10.0\n"
     ]
    }
   ],
   "source": [
    "import numpy as np\n",
    "data=pd.DataFrame({\n",
    "    'Age': [30, 40, 25, 35, 45],\n",
    "        'Income': [50000, 60000, 40000, 55000, 70000],\n",
    "        'Education': [12, 16, 10, 14, 18]})\n",
    "\n",
    "\n",
    "covariance_matrix=data.cov()\n",
    "print(covariance_data)"
   ]
  },
  {
   "cell_type": "markdown",
   "id": "0d0b37a2",
   "metadata": {},
   "source": [
    "Q6. You are working on a machine learning project with a dataset containing several categorical\n",
    "variables, including \"Gender\" (Male/Female), \"Education Level\" (High School/Bachelor's/Master's/PhD),\n",
    "and \"Employment Status\" (Unemployed/Part-Time/Full-Time). Which encoding method would you use for\n",
    "each variable, and why?"
   ]
  },
  {
   "cell_type": "code",
   "execution_count": 73,
   "id": "f2ed792a",
   "metadata": {},
   "outputs": [
    {
     "name": "stdout",
     "output_type": "stream",
     "text": [
      "df_encoded_onehotencoder:\n",
      "   female male\n",
      "0    0.0  1.0\n",
      "1    1.0  0.0\n",
      "  female male\n",
      "0    0.0  1.0\n",
      "1    1.0  0.0\n",
      "encoded_label [1 0]\n",
      "ordinal_education_level:\n",
      " [[0.]\n",
      " [1.]\n",
      " [2.]\n",
      " [3.]]\n",
      "ordinal_empployement:\n",
      " [[0.]\n",
      " [1.]\n",
      " [2.]]\n"
     ]
    },
    {
     "name": "stderr",
     "output_type": "stream",
     "text": [
      "C:\\Users\\ayush\\anaconda3\\lib\\site-packages\\sklearn\\preprocessing\\_label.py:115: DataConversionWarning: A column-vector y was passed when a 1d array was expected. Please change the shape of y to (n_samples, ), for example using ravel().\n",
      "  y = column_or_1d(y, warn=True)\n"
     ]
    }
   ],
   "source": [
    "\n",
    "#(1)  \"Gender\" (Male/Female\n",
    "\n",
    "\n",
    "\n",
    "df=pd.DataFrame(\n",
    "    {\n",
    "      \"Gender\":[\"male\",\"female\"]  \n",
    "    })\n",
    "from sklearn.preprocessing import OneHotEncoder\n",
    "# Nominal/OneHotEncoder\n",
    "encoder_one=OneHotEncoder()\n",
    "encoded_one=encoder_one.fit_transform(df[[\"Gender\"]]).toarray()\n",
    "df_encoded=pd.DataFrame(encoded_one,columns=encoder_one.categories_)\n",
    "print(\"df_encoded_onehotencoder:\\n\",df_encoded)\n",
    "# label encoding\n",
    "from sklearn.preprocessing import LabelEncoder\n",
    "encoder_label=LabelEncoder()\n",
    "encoded_label=encoder_label.fit_transform(df[[\"Gender\"]])\n",
    "\n",
    "print(df_encoded)\n",
    "print(\"encoded_label\",encoded_label)\n",
    "\n",
    "#(2)\n",
    "#\"Education Level\" (High School/Bachelor's/Master's/PhD)\n",
    "\n",
    "df1=pd.DataFrame({\n",
    "    \"Education_level\":[\"High school\",\"Bachelor's\",\"Master's\",\"Phd\"]\n",
    "})\n",
    "from sklearn.preprocessing import OrdinalEncoder\n",
    "ordinal=OrdinalEncoder(categories=[[\"High school\",\"Bachelor's\",\"Master's\",\"Phd\"]])\n",
    "ordinal_education_level=ordinal.fit_transform(df1[[\"Education_level\"]])\n",
    "print(\"ordinal_education_level:\\n\",ordinal_education_level)\n",
    "\n",
    "#(3)\n",
    "# \"Employment Status\" (Unemployed/Part-Time/Full-Time)\n",
    "\n",
    "df2=pd.DataFrame({\n",
    "    \"Employment_Status\": [\"unemployed\",\"Part-Time\",\"Full-Time\"]\n",
    "})\n",
    "employement=OrdinalEncoder(categories=[[\"unemployed\",\"Part-Time\",\"Full-Time\"]])\n",
    "\n",
    "ordinal_employement=employement.fit_transform(df2[[\"Employment_Status\"]])\n",
    "print(\"ordinal_empployement:\\n\",ordinal_employement)"
   ]
  },
  {
   "cell_type": "markdown",
   "id": "1883ecb6",
   "metadata": {},
   "source": [
    "\"Gender\" (Male/Female):\n",
    "\n",
    "Nominal Encoding/One-Hot Encoding: You have used OneHotEncoder to perform one-hot encoding, which creates binary variables for each category. This is suitable when there is no inherent order or hierarchy in the categories, and you want to represent each category as a separate binary feature.\n",
    "Label Encoding: You have also used LabelEncoder to perform label encoding, which assigns numerical labels to each category. This is useful when there is a binary or ordinal relationship between the categories, and you want to represent them with numerical values.\n",
    "\n",
    "\"Education Level\" (High School/Bachelor's/Master's/PhD):\n",
    "\n",
    "Ordinal Encoding: You have used OrdinalEncoder to perform ordinal encoding, which assigns numerical labels to the categories based on a specified order. This is appropriate when there is a natural order or hierarchy among the categories, and you want to represent them accordingly.\n",
    "\n",
    "\"Employment Status\" (Unemployed/Part-Time/Full-Time):\n",
    "\n",
    "Ordinal Encoding: You have again used OrdinalEncoder to perform ordinal encoding for the \"Employment Status\" feature. This is suitable when there is an inherent order or ranking among the categories, and you want to encode them accordingly."
   ]
  },
  {
   "cell_type": "markdown",
   "id": "eb4c8b14",
   "metadata": {},
   "source": [
    "Q7. You are analyzing a dataset with two continuous variables, \"Temperature\" and \"Humidity\", and two\n",
    "categorical variables, \"Weather Condition\" (Sunny/Cloudy/Rainy) and \"Wind Direction\" (North/South/\n",
    "East/West). Calculate the covariance between each pair of variables and interpret the results.\n"
   ]
  },
  {
   "cell_type": "code",
   "execution_count": 74,
   "id": "8ce0f05c",
   "metadata": {},
   "outputs": [
    {
     "name": "stdout",
     "output_type": "stream",
     "text": [
      "             Temperature    Humidity\n",
      "Temperature    30.636263    5.734545\n",
      "Humidity        5.734545  221.435960\n"
     ]
    }
   ],
   "source": [
    "import pandas as pd\n",
    "import numpy as np\n",
    "\n",
    "np.random.seed(42)\n",
    "\n",
    "# Generate random data\n",
    "data = pd.DataFrame({\n",
    "    \"Temperature\": np.random.randint(10, 30, 100),\n",
    "    \"Humidity\": np.random.randint(30, 80, 100),\n",
    "    \"Weather Condition\": np.random.choice([\"Sunny\", \"Cloudy\", \"Rainy\"], size=100),\n",
    "    \"Wind Direction\": np.random.choice([\"North\", \"South\", \"East\", \"West\"], size=100)\n",
    "})\n",
    "\n",
    "# Calculate covariance\n",
    "covariance_matrix = data.cov()\n",
    "print(covariance_matrix)\n"
   ]
  },
  {
   "cell_type": "code",
   "execution_count": null,
   "id": "d6597ee1",
   "metadata": {},
   "outputs": [],
   "source": [
    "\n"
   ]
  }
 ],
 "metadata": {
  "kernelspec": {
   "display_name": "Python 3 (ipykernel)",
   "language": "python",
   "name": "python3"
  },
  "language_info": {
   "codemirror_mode": {
    "name": "ipython",
    "version": 3
   },
   "file_extension": ".py",
   "mimetype": "text/x-python",
   "name": "python",
   "nbconvert_exporter": "python",
   "pygments_lexer": "ipython3",
   "version": "3.9.12"
  }
 },
 "nbformat": 4,
 "nbformat_minor": 5
}
